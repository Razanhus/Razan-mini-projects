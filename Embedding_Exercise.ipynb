{
  "cells": [
    {
      "cell_type": "markdown",
      "metadata": {
        "id": "view-in-github",
        "colab_type": "text"
      },
      "source": [
        "<a href=\"https://colab.research.google.com/github/Razanhus/Razan-mini-projects/blob/main/Embedding_Exercise.ipynb\" target=\"_parent\"><img src=\"https://colab.research.google.com/assets/colab-badge.svg\" alt=\"Open In Colab\"/></a>"
      ]
    },
    {
      "cell_type": "markdown",
      "id": "f54841a7",
      "metadata": {
        "id": "f54841a7"
      },
      "source": [
        "# Exercise: Downloading and Using AraVec\n",
        "    \n",
        "### Step 1: Install the Required Packages\n",
        "\n",
        "In this step, you will install all the necessary Python libraries required to use AraVec.\n",
        "\n",
        "**Task:** Write the necessary code to install the following libraries:\n",
        "\n",
        "- `gensim`: A popular library for word embeddings.\n",
        "- `numpy`: For numerical operations.\n",
        "- `tqdm`: For progress bars. (optional)\n",
        "    "
      ]
    },
    {
      "cell_type": "code",
      "source": [
        "!pip install gensim nltk"
      ],
      "metadata": {
        "colab": {
          "base_uri": "https://localhost:8080/"
        },
        "id": "q_gjyVgb7iWb",
        "outputId": "faedbf0d-f89f-499a-a512-0e9b7d7bb794"
      },
      "id": "q_gjyVgb7iWb",
      "execution_count": 3,
      "outputs": [
        {
          "output_type": "stream",
          "name": "stdout",
          "text": [
            "Requirement already satisfied: gensim in /usr/local/lib/python3.10/dist-packages (4.3.3)\n",
            "Requirement already satisfied: nltk in /usr/local/lib/python3.10/dist-packages (3.8.1)\n",
            "Requirement already satisfied: numpy<2.0,>=1.18.5 in /usr/local/lib/python3.10/dist-packages (from gensim) (1.26.4)\n",
            "Requirement already satisfied: scipy<1.14.0,>=1.7.0 in /usr/local/lib/python3.10/dist-packages (from gensim) (1.13.1)\n",
            "Requirement already satisfied: smart-open>=1.8.1 in /usr/local/lib/python3.10/dist-packages (from gensim) (7.0.4)\n",
            "Requirement already satisfied: click in /usr/local/lib/python3.10/dist-packages (from nltk) (8.1.7)\n",
            "Requirement already satisfied: joblib in /usr/local/lib/python3.10/dist-packages (from nltk) (1.4.2)\n",
            "Requirement already satisfied: regex>=2021.8.3 in /usr/local/lib/python3.10/dist-packages (from nltk) (2024.5.15)\n",
            "Requirement already satisfied: tqdm in /usr/local/lib/python3.10/dist-packages (from nltk) (4.66.5)\n",
            "Requirement already satisfied: wrapt in /usr/local/lib/python3.10/dist-packages (from smart-open>=1.8.1->gensim) (1.16.0)\n"
          ]
        }
      ]
    },
    {
      "cell_type": "code",
      "source": [
        "import numpy as np\n",
        "import nltk\n",
        "from nltk.corpus import gutenberg\n",
        "from nltk.tokenize import word_tokenize\n",
        "from gensim.models import Word2Vec\n",
        "from sklearn.decomposition import PCA\n",
        "import matplotlib.pyplot as plt"
      ],
      "metadata": {
        "id": "mnwKdLK77L0y"
      },
      "id": "mnwKdLK77L0y",
      "execution_count": 2,
      "outputs": []
    },
    {
      "cell_type": "markdown",
      "id": "3766d973",
      "metadata": {
        "id": "3766d973"
      },
      "source": [
        "### Step 2: Download AraVec Pre-trained Model\n",
        "\n",
        "AraVec is an open-source Arabic word embedding model that comes pre-trained on various Arabic corpora. You will need to download the pre-trained model.\n",
        "\n",
        "**Task:** Download the AraVec pre-trained model from the [official repository](https://github.com/bakrianoo/aravec).\n",
        "    "
      ]
    },
    {
      "cell_type": "code",
      "execution_count": 1,
      "id": "1766ef89",
      "metadata": {
        "id": "1766ef89",
        "colab": {
          "base_uri": "https://localhost:8080/"
        },
        "outputId": "c231b998-e43b-4c39-8828-ea6fd77737cc"
      },
      "outputs": [
        {
          "output_type": "stream",
          "name": "stdout",
          "text": [
            "--2024-09-09 08:35:49--  https://www.dropbox.com/s/ce9phmmawoe1ure/Twt-CBOW.zip\n",
            "Resolving www.dropbox.com (www.dropbox.com)... 162.125.65.18, 2620:100:6017:18::a27d:212\n",
            "Connecting to www.dropbox.com (www.dropbox.com)|162.125.65.18|:443... connected.\n",
            "HTTP request sent, awaiting response... 302 Found\n",
            "Location: https://www.dropbox.com/scl/fi/ywlqq631gpw75ta5x32d6/Twt-CBOW.zip?rlkey=cxzrg8siz5y4418op30q02465 [following]\n",
            "--2024-09-09 08:35:50--  https://www.dropbox.com/scl/fi/ywlqq631gpw75ta5x32d6/Twt-CBOW.zip?rlkey=cxzrg8siz5y4418op30q02465\n",
            "Reusing existing connection to www.dropbox.com:443.\n",
            "HTTP request sent, awaiting response... 302 Found\n",
            "Location: https://ucb817cb7bbd4e5f2c3dc67f890f.dl.dropboxusercontent.com/cd/0/inline/CaMBKZRCoyZx8EIj2OvozD8lHW3Xnx-qZyIRTy7DJ_27kHm_bW4VEsEERryfvCfVTALAP2WxDRCR8ypFh1XuLHP4ND0TOXvSyJ_tEqzBfrLb03xlE7OivDVae_dh3vO4n8c/file# [following]\n",
            "--2024-09-09 08:35:51--  https://ucb817cb7bbd4e5f2c3dc67f890f.dl.dropboxusercontent.com/cd/0/inline/CaMBKZRCoyZx8EIj2OvozD8lHW3Xnx-qZyIRTy7DJ_27kHm_bW4VEsEERryfvCfVTALAP2WxDRCR8ypFh1XuLHP4ND0TOXvSyJ_tEqzBfrLb03xlE7OivDVae_dh3vO4n8c/file\n",
            "Resolving ucb817cb7bbd4e5f2c3dc67f890f.dl.dropboxusercontent.com (ucb817cb7bbd4e5f2c3dc67f890f.dl.dropboxusercontent.com)... 162.125.2.15, 2620:100:6017:15::a27d:20f\n",
            "Connecting to ucb817cb7bbd4e5f2c3dc67f890f.dl.dropboxusercontent.com (ucb817cb7bbd4e5f2c3dc67f890f.dl.dropboxusercontent.com)|162.125.2.15|:443... connected.\n",
            "HTTP request sent, awaiting response... 302 Found\n",
            "Location: /cd/0/inline2/CaOQlPdIUQ7NfEjeTqVMmWZhbLOYAMqoEafmIvsMwgpiNsmPbbY82esQ4hdRiONsO0YR7DEnpoczJg4dO0WnX-s1zTqq5pJ857lsR8W51JVWX-uX6NHj9SJ9ivDlpMIB-na5kk2681gfbOT17V-mtip2VuniCoOtxz5EHeQ0_whZiuRGX4TmCiaqRoUhhEZoAK0B7Yc1usr2QAWE3gKYeDwfv17ykRwhYwqouivWycqvsyelquucitcqkZzVPCIErDqwHiUpQiovqYwZRZQDwl_Gj89WNh8Z4rU8voXS8e76zBHeRLysVWEvn5xjImGCtozlQO_U4X50ez-G5zqXem-XzVdhJp5xI-WeYsmos0WLDw/file [following]\n",
            "--2024-09-09 08:35:51--  https://ucb817cb7bbd4e5f2c3dc67f890f.dl.dropboxusercontent.com/cd/0/inline2/CaOQlPdIUQ7NfEjeTqVMmWZhbLOYAMqoEafmIvsMwgpiNsmPbbY82esQ4hdRiONsO0YR7DEnpoczJg4dO0WnX-s1zTqq5pJ857lsR8W51JVWX-uX6NHj9SJ9ivDlpMIB-na5kk2681gfbOT17V-mtip2VuniCoOtxz5EHeQ0_whZiuRGX4TmCiaqRoUhhEZoAK0B7Yc1usr2QAWE3gKYeDwfv17ykRwhYwqouivWycqvsyelquucitcqkZzVPCIErDqwHiUpQiovqYwZRZQDwl_Gj89WNh8Z4rU8voXS8e76zBHeRLysVWEvn5xjImGCtozlQO_U4X50ez-G5zqXem-XzVdhJp5xI-WeYsmos0WLDw/file\n",
            "Reusing existing connection to ucb817cb7bbd4e5f2c3dc67f890f.dl.dropboxusercontent.com:443.\n",
            "HTTP request sent, awaiting response... 200 OK\n",
            "Length: 369123021 (352M) [application/zip]\n",
            "Saving to: ‘Twt-CBOW.zip’\n",
            "\n",
            "Twt-CBOW.zip        100%[===================>] 352.02M  65.2MB/s    in 5.1s    \n",
            "\n",
            "2024-09-09 08:35:57 (68.8 MB/s) - ‘Twt-CBOW.zip’ saved [369123021/369123021]\n",
            "\n",
            "--2024-09-09 08:35:58--  https://www.dropbox.com/s/26mfjdspmz22dqp/Twt-SG.zip\n",
            "Resolving www.dropbox.com (www.dropbox.com)... 162.125.65.18, 2620:100:6017:18::a27d:212\n",
            "Connecting to www.dropbox.com (www.dropbox.com)|162.125.65.18|:443... connected.\n",
            "HTTP request sent, awaiting response... 302 Found\n",
            "Location: https://www.dropbox.com/scl/fi/rkztc22e7hn9oq5rc67nn/Twt-SG.zip?rlkey=1dutk1dg2xyplch9crxpg724t [following]\n",
            "--2024-09-09 08:35:59--  https://www.dropbox.com/scl/fi/rkztc22e7hn9oq5rc67nn/Twt-SG.zip?rlkey=1dutk1dg2xyplch9crxpg724t\n",
            "Reusing existing connection to www.dropbox.com:443.\n",
            "HTTP request sent, awaiting response... 302 Found\n",
            "Location: https://ucadf6919b8a2361179451eb9c01.dl.dropboxusercontent.com/cd/0/inline/CaPF0YQ3hNXcYmxJT5qyF4pGfzLzBIxXmKAJBTdWWpOGsDwsdKIe-VkRZwPlu3g0YKWv8UH5aQ5vKcQ8hh-m2nA1vNbNZXWXUPa4FR6Ti1o3DqW7_6UZI_7oZ4PfGH6atTk/file# [following]\n",
            "--2024-09-09 08:36:00--  https://ucadf6919b8a2361179451eb9c01.dl.dropboxusercontent.com/cd/0/inline/CaPF0YQ3hNXcYmxJT5qyF4pGfzLzBIxXmKAJBTdWWpOGsDwsdKIe-VkRZwPlu3g0YKWv8UH5aQ5vKcQ8hh-m2nA1vNbNZXWXUPa4FR6Ti1o3DqW7_6UZI_7oZ4PfGH6atTk/file\n",
            "Resolving ucadf6919b8a2361179451eb9c01.dl.dropboxusercontent.com (ucadf6919b8a2361179451eb9c01.dl.dropboxusercontent.com)... 162.125.65.15, 2620:100:6017:15::a27d:20f\n",
            "Connecting to ucadf6919b8a2361179451eb9c01.dl.dropboxusercontent.com (ucadf6919b8a2361179451eb9c01.dl.dropboxusercontent.com)|162.125.65.15|:443... connected.\n",
            "HTTP request sent, awaiting response... 302 Found\n",
            "Location: /cd/0/inline2/CaOHk0Tq3weV0C4thCP59lsme5uKFu0JTep2UWi_8aK3WwHvvbeMr7yL15sZdG9eKzyCM6mleE4vFkyRG9F_X-m1KLmtRILsNf3rvnivBcxsxLgbP-Ukc6iP14X4dK4IqASGA-A4Uq1I8Mop16lVLqRd6MZzLSoLn_SVyuFkFer5ssn7PSpxSOsdglquRdXKXfyI2nDO8lvk-T5uu-emSsa23LmPfqQFFy-TofFxCebg1enppvEXKRrcTgyRN7OJ6wACGocqjf1p15cvdKSWMh97GUCRRoLsGkxDkUn4E8Rm-ST8YPefaMu_MIBi36_Dl8JBsaq_dAgvphPqHHXw2y_dm1NNigUwWwKExtE96YZ67Q/file [following]\n",
            "--2024-09-09 08:36:01--  https://ucadf6919b8a2361179451eb9c01.dl.dropboxusercontent.com/cd/0/inline2/CaOHk0Tq3weV0C4thCP59lsme5uKFu0JTep2UWi_8aK3WwHvvbeMr7yL15sZdG9eKzyCM6mleE4vFkyRG9F_X-m1KLmtRILsNf3rvnivBcxsxLgbP-Ukc6iP14X4dK4IqASGA-A4Uq1I8Mop16lVLqRd6MZzLSoLn_SVyuFkFer5ssn7PSpxSOsdglquRdXKXfyI2nDO8lvk-T5uu-emSsa23LmPfqQFFy-TofFxCebg1enppvEXKRrcTgyRN7OJ6wACGocqjf1p15cvdKSWMh97GUCRRoLsGkxDkUn4E8Rm-ST8YPefaMu_MIBi36_Dl8JBsaq_dAgvphPqHHXw2y_dm1NNigUwWwKExtE96YZ67Q/file\n",
            "Reusing existing connection to ucadf6919b8a2361179451eb9c01.dl.dropboxusercontent.com:443.\n",
            "HTTP request sent, awaiting response... 200 OK\n",
            "Length: 459394984 (438M) [application/zip]\n",
            "Saving to: ‘Twt-SG.zip’\n",
            "\n",
            "Twt-SG.zip          100%[===================>] 438.11M  16.9MB/s    in 26s     \n",
            "\n",
            "2024-09-09 08:36:28 (16.6 MB/s) - ‘Twt-SG.zip’ saved [459394984/459394984]\n",
            "\n",
            "Archive:  Twt-CBOW.zip\n",
            "  inflating: Twt-CBOW                \n",
            "  inflating: Twt-CBOW.syn1neg.npy    \n",
            "  inflating: Twt-CBOW.wv.syn0.npy    \n",
            "/bin/bash: line 1: unzipTwt-SG.zip: command not found\n"
          ]
        }
      ],
      "source": [
        "#downloading pretrained model\n",
        "!wget https://www.dropbox.com/s/ce9phmmawoe1ure/Twt-CBOW.zip\n",
        "!wget https://www.dropbox.com/s/26mfjdspmz22dqp/Twt-SG.zip\n",
        "\n",
        "!unzip Twt-CBOW.zip\n",
        "!unzipTwt-SG.zip\n"
      ]
    },
    {
      "cell_type": "markdown",
      "id": "80af23b2",
      "metadata": {
        "id": "80af23b2"
      },
      "source": [
        "### Step 3: Load the AraVec Model\n",
        "\n",
        "Once the model is downloaded, you need to load it into your Python environment using `gensim`.\n",
        "\n",
        "**Task:** Write the code to load the AraVec model.\n",
        "    "
      ]
    },
    {
      "cell_type": "code",
      "execution_count": 11,
      "id": "886d8606",
      "metadata": {
        "id": "886d8606"
      },
      "outputs": [],
      "source": [
        "from gensim.models import KeyedVectors\n",
        "model = KeyedVectors.load('/content/Twt-CBOW')"
      ]
    },
    {
      "cell_type": "markdown",
      "id": "ccfb774c",
      "metadata": {
        "id": "ccfb774c"
      },
      "source": [
        "### Step 4: Use AraVec to Find Similar Words\n",
        "\n",
        "Now that the model is loaded, you can use it to find similar words. This is useful in natural language processing tasks like finding synonyms or analyzing word relationships.\n",
        "\n",
        "**Task:** Write the code to find the top 5 words similar to a given Arabic word, such as \"ملك\" (king).\n",
        "    "
      ]
    },
    {
      "cell_type": "code",
      "execution_count": 12,
      "id": "076e0c5c",
      "metadata": {
        "id": "076e0c5c",
        "colab": {
          "base_uri": "https://localhost:8080/"
        },
        "outputId": "9c8c9aa2-2e55-49b9-f707-0e8020d5d4a1"
      },
      "outputs": [
        {
          "output_type": "stream",
          "name": "stdout",
          "text": [
            "[('لملك', 0.5928696990013123), ('بملك', 0.5477061867713928), ('ياملك', 0.4843748211860657), ('وملك', 0.4725903272628784), ('ملكه', 0.44895926117897034)]\n"
          ]
        }
      ],
      "source": [
        "similar_words = model.wv.most_similar('ملك', topn=5)\n",
        "print(similar_words)"
      ]
    },
    {
      "cell_type": "code",
      "source": [
        "similarity = model.wv.similarity('سلطان', 'ملك')\n",
        "print(f\"Similarity between 'سلطان' and 'ملك': {similarity}\")"
      ],
      "metadata": {
        "colab": {
          "base_uri": "https://localhost:8080/"
        },
        "id": "D_o1ff9994i8",
        "outputId": "ba5b1b5e-3cbe-4bc4-a1dd-bed8a0f0cc45"
      },
      "id": "D_o1ff9994i8",
      "execution_count": 13,
      "outputs": [
        {
          "output_type": "stream",
          "name": "stdout",
          "text": [
            "Similarity between 'سلطان' and 'ملك': 0.2724877893924713\n"
          ]
        }
      ]
    },
    {
      "cell_type": "markdown",
      "id": "5cdeebac",
      "metadata": {
        "id": "5cdeebac"
      },
      "source": [
        "### Step 5: Visualize Word Embeddings\n",
        "\n",
        "You can use libraries like `matplotlib` or `seaborn` to visualize word embeddings in a 2D space. This gives you an intuitive understanding of how words are related to one another.\n",
        "\n",
        "**Task:** Write the code to visualize the word embeddings of a list of Arabic words using a dimensionality reduction technique like PCA or t-SNE.\n",
        "    "
      ]
    },
    {
      "cell_type": "code",
      "execution_count": 15,
      "id": "4247b484",
      "metadata": {
        "id": "4247b484",
        "colab": {
          "base_uri": "https://localhost:8080/",
          "height": 522
        },
        "outputId": "66e81b14-42b1-4645-adc8-53264b918bcf"
      },
      "outputs": [
        {
          "output_type": "display_data",
          "data": {
            "text/plain": [
              "<Figure size 800x600 with 1 Axes>"
            ],
            "image/png": "[encoded data removed]"
          },
          "metadata": {}
        }
      ],
      "source": [
        "# Select a subset of words\n",
        "words = ['خادم', 'اميره', 'رجل', 'امراه', 'سلطان', 'ملك']\n",
        "\n",
        "# Get the vectors for the selected words\n",
        "word_vectors = [model.wv[word] for word in words]\n",
        "\n",
        "# Reduce the dimensionality to 2D using PCA\n",
        "pca = PCA(n_components=2)\n",
        "word_vectors_2d = pca.fit_transform(word_vectors)\n",
        "\n",
        "# Plot the words in 2D space\n",
        "plt.figure(figsize=(8, 6))\n",
        "for i, word in enumerate(words):\n",
        "    plt.scatter(word_vectors_2d[i, 0], word_vectors_2d[i, 1])\n",
        "    plt.text(word_vectors_2d[i, 0] + 0.05, word_vectors_2d[i, 1] + 0.05, word, fontsize=12)\n",
        "plt.show()"
      ]
    },
    {
      "cell_type": "markdown",
      "id": "1a93084f",
      "metadata": {
        "id": "1a93084f"
      },
      "source": [
        "### Step 6: Fine-tune AraVec with an Arabic Dataset\n",
        "\n",
        "In this step, you'll fine-tune the AraVec model on a new Arabic dataset. This will help the model adapt to domain-specific or updated language usage.\n",
        "\n",
        "**Task:**\n",
        "- Find a relevant Arabic dataset (for example, from resources like [Kaggle](https://www.kaggle.com/) or [Hugging Face Datasets](https://huggingface.co/datasets).\n",
        "- Preprocess the dataset (tokenization, removing unwanted characters, etc.).\n",
        "- Fine-tune the AraVec model using `gensim`.\n",
        "    "
      ]
    },
    {
      "cell_type": "markdown",
      "id": "d89f9d0f",
      "metadata": {
        "id": "d89f9d0f"
      },
      "source": [
        "#### Preprocessing the Dataset\n",
        "\n",
        "You will need to preprocess the dataset by tokenizing and cleaning the text."
      ]
    },
    {
      "cell_type": "code",
      "source": [
        "import re\n",
        "from nltk.tokenize import word_tokenize\n",
        "import nltk\n",
        "import pandas as pd\n",
        "\n",
        "nltk.download('punkt')\n",
        "\n",
        "def preprocess_text(text):\n",
        "\n",
        "    text = re.sub(r'[^ا-ي\\s]', '', text)\n",
        "\n",
        "    return word_tokenize(text)\n",
        "\n",
        "\n",
        "df = pd.DataFrame({'text_column': ['السلام عليكم ورحمة الله وبركاته', 'عمري 24 سنه في عام 2024.']})\n",
        "\n",
        "df['tokenized'] = df['text_column'].apply(preprocess_text)"
      ],
      "metadata": {
        "colab": {
          "base_uri": "https://localhost:8080/"
        },
        "id": "tcRmImWUTHhF",
        "outputId": "ed5d1c6e-2233-415c-af86-f805f1e171d7"
      },
      "id": "tcRmImWUTHhF",
      "execution_count": 18,
      "outputs": [
        {
          "output_type": "stream",
          "name": "stderr",
          "text": [
            "[nltk_data] Downloading package punkt to /root/nltk_data...\n",
            "[nltk_data]   Package punkt is already up-to-date!\n"
          ]
        }
      ]
    },
    {
      "cell_type": "markdown",
      "id": "42d3a145",
      "metadata": {
        "id": "42d3a145"
      },
      "source": [
        "#### Fine-tuning AraVec\n",
        "\n",
        "Once the dataset is preprocessed, you'll proceed to fine-tune the AraVec model using the processed text."
      ]
    },
    {
      "cell_type": "code",
      "execution_count": 20,
      "id": "8cdab7fa",
      "metadata": {
        "id": "8cdab7fa"
      },
      "outputs": [],
      "source": [
        "\n",
        "sentences = df['tokenized'].tolist()\n",
        "\n",
        "\n",
        "model = KeyedVectors.load('/content/Twt-CBOW')\n",
        "\n",
        "\n",
        "model.build_vocab(sentences, update=True)\n",
        "model.train(sentences, total_examples=model.corpus_count, epochs=5)\n",
        "\n",
        "\n",
        "model.save(\"fine_tuned_aravec.model\")"
      ]
    },
    {
      "cell_type": "code",
      "source": [],
      "metadata": {
        "id": "WhGlFb9cU-Tu"
      },
      "id": "WhGlFb9cU-Tu",
      "execution_count": null,
      "outputs": []
    }
  ],
  "metadata": {
    "language_info": {
      "name": "python"
    },
    "colab": {
      "provenance": [],
      "include_colab_link": true
    },
    "kernelspec": {
      "name": "python3",
      "display_name": "Python 3"
    }
  },
  "nbformat": 4,
  "nbformat_minor": 5
}